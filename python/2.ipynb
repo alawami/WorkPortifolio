{
 "cells": [
  {
   "cell_type": "code",
   "execution_count": 7,
   "metadata": {
    "collapsed": true
   },
   "outputs": [],
   "source": [
    "# Last Name: Alawami\n",
    "# Date: July 20, 2017\n",
    "# Approach: First I wanted to assess the difficulty of the task so I loaded the data into R did some data exploration \n",
    "#           ran two basic models logistic regression and random forest (I can send those files of add them to this \n",
    "#           notebook, but I left them out for brevity). I got a passing AUC. So I fired up Python IDE to implement the \n",
    "#           models on it as is requested. For missing values in gender I created a new level variable \"U\" for unknown, \n",
    "#           though I can think of several appraoches would work just fine or perhaps even (slightly) better. I ran a \n",
    "#           random forest and varified the approperiate AUC. In building the model I ran Cross-Validation and did a \n",
    "#           some quick parameter tuning. I included an variable importance table, an ROC curve. Finally, I wanted to \n",
    "#           run another quick model so I ran XGboost. I got almost the same AUC value.\n",
    "# Expected AUC = 0.851363764528964"
   ]
  },
  {
   "cell_type": "code",
   "execution_count": 2,
   "metadata": {},
   "outputs": [
    {
     "name": "stdout",
     "output_type": "stream",
     "text": [
      "<class 'pandas.core.frame.DataFrame'>\n",
      "RangeIndex: 10000 entries, 0 to 9999\n",
      "Data columns (total 9 columns):\n",
      "age                           10000 non-null int64\n",
      "cost_of_ad                    10000 non-null float64\n",
      "device_type                   10000 non-null object\n",
      "gender                        9731 non-null object\n",
      "in_initial_launch_location    10000 non-null int64\n",
      "income                        10000 non-null int64\n",
      "n_drivers                     10000 non-null int64\n",
      "n_vehicles                    10000 non-null int64\n",
      "prior_ins_tenure              10000 non-null int64\n",
      "dtypes: float64(1), int64(6), object(2)\n",
      "memory usage: 703.2+ KB\n"
     ]
    }
   ],
   "source": [
    "### Set up data\n",
    "import pandas as pd\n",
    "import numpy as np\n",
    "import matplotlib.pyplot as plt\n",
    "from sklearn.metrics import confusion_matrix, classification_report\n",
    "\n",
    "# Read in the data\n",
    "data = pd.read_csv('data/train.csv')\n",
    "X = data.iloc[:, :-1]\n",
    "X.describe()\n",
    "X.head()\n",
    "X.info()\n",
    "\n",
    "y = data.iloc[:, -1]\n",
    "\n",
    "# Handle Missing Values\n",
    "#from sklearn.preprocessing import Imputer\n",
    "#\n",
    "#imp = Imputer(missing_values='NaN', strategy='mean', axis=0)\n",
    "#X.loc[pd.isnull(X['gender']), 'gender'] = 'U'\n",
    "X['gender'] = X['gender'].fillna('U')\n",
    "\n",
    "# Encoding categorical data\n",
    "# Easy way\n",
    "X1 = pd.get_dummies(X, drop_first=True)\n",
    "features_names = list(X1)\n",
    "\n",
    "## Fancy way\n",
    "#from sklearn.preprocessing import LabelEncoder, OneHotEncoder\n",
    "#\n",
    "#X = X.values\n",
    "#labelencoder = LabelEncoder()\n",
    "#X[:, 2] = labelencoder.fit_transform(X2[:, 2])\n",
    "#X[:, 3] = labelencoder.fit_transform(X2[:, 3])\n",
    "#onehotencoder = OneHotEncoder(categorical_features = [2, 3])\n",
    "#X = onehotencoder.fit_transform(X2).toarray()\n",
    "#\n",
    "## Drop extra dummy variable columns to avoid a singular matrix\n",
    "#X = np.delete(X2, [0, 7], 1)\n",
    "\n",
    "features_names = list(X1.columns)\n",
    "\n",
    "# Split data into training and testing data set\n",
    "from sklearn.model_selection import train_test_split\n",
    "\n",
    "X_train, X_test, y_train, y_test = train_test_split(X1, y, test_size = 0.3, random_state=42, stratify=y)"
   ]
  },
  {
   "cell_type": "code",
   "execution_count": 3,
   "metadata": {},
   "outputs": [
    {
     "name": "stdout",
     "output_type": "stream",
     "text": [
      "[[2695   10]\n",
      " [ 246   49]]\n",
      "             precision    recall  f1-score   support\n",
      "\n",
      "          0       0.92      1.00      0.95      2705\n",
      "          1       0.83      0.17      0.28       295\n",
      "\n",
      "avg / total       0.91      0.91      0.89      3000\n",
      "\n",
      "                      features  importance\n",
      "1                   cost_of_ad    0.193846\n",
      "3                       income    0.179513\n",
      "0                          age    0.141189\n",
      "5                   n_vehicles    0.112195\n",
      "6             prior_ins_tenure    0.098615\n",
      "2   in_initial_launch_location    0.056679\n",
      "11                    gender_M    0.053214\n",
      "4                    n_drivers    0.049786\n",
      "9           device_type_laptop    0.035883\n",
      "7          device_type_desktop    0.034633\n",
      "10           device_type_other    0.028050\n",
      "8           device_type_iPhone    0.013390\n",
      "12                    gender_U    0.003007\n",
      "AUC scores computed using 5-fold cross-validation: [ 0.81662019  0.83069985  0.83048124  0.8576758   0.84008121]\n",
      "Average 5-Fold CV Score: 0.835111659173897\n",
      "Approx. 95% CI for Average 5-Fold CV Score:: 0.8351 +/- 0.0271\n",
      "AUC: 0.8453497916601397\n"
     ]
    }
   ],
   "source": [
    "# Import necessary modules\n",
    "from sklearn.metrics import roc_curve\n",
    "from sklearn.metrics import roc_auc_score\n",
    "from sklearn.model_selection import cross_val_score\n",
    "\n",
    "### Fit Random Forest\n",
    "from sklearn.ensemble import RandomForestClassifier\n",
    "\n",
    "forest = RandomForestClassifier(max_depth = 10, min_samples_split=2, n_estimators = 1000, random_state = 42)\n",
    "cv_auc = cross_val_score(forest, X_train, y_train, cv=5, scoring='roc_auc')\n",
    "forest.fit(X_train, y_train)\n",
    "\n",
    "# Compute predicted probabilities: y_pred_prob\n",
    "y_pred_prob = forest.predict_proba(X_test)[:,1]\n",
    "\n",
    "# Display Confusion Matrix, Classification Matrix, Variable Importance\n",
    "print(confusion_matrix(y_test, forest.predict(X_test)))\n",
    "print(classification_report(y_test, forest.predict(X_test)))\n",
    "\n",
    "#print(dict(zip(features_names, forest.feature_importances_)))\n",
    "print(pd.DataFrame(data={'features':features_names, \n",
    "                         'importance':forest.feature_importances_}).sort_values(['importance'], ascending = False))\n",
    "\n",
    "# Compute predicted probabilities: y_pred_prob\n",
    "y_pred_prob = forest.predict_proba(X_test)[:,1]\n",
    "\n",
    "# Print list of AUC scores for CV\n",
    "print(\"AUC scores computed using 5-fold cross-validation: {}\".format(cv_auc))\n",
    "\n",
    "# Compute 5-fold cross-validation scores\n",
    "print(\"Average 5-Fold CV Score: {}\".format(np.mean(cv_auc)))\n",
    "print(\"Approx. 95%% CI for Average 5-Fold CV Score:: %0.4f +/- %0.4f\" % (np.mean(cv_auc), np.std(cv_auc) * 2))\n",
    "\n",
    "# Compute and print AUC score for fitted model\n",
    "print(\"AUC: {}\".format(roc_auc_score(y_test, y_pred_prob))) # 0.8453497916601397\n"
   ]
  },
  {
   "cell_type": "code",
   "execution_count": 4,
   "metadata": {},
   "outputs": [
    {
     "name": "stdout",
     "output_type": "stream",
     "text": [
      "Tuned Decision Tree Parameters: {'class_weight': 'balanced', 'criterion': 'entropy', 'max_depth': 10, 'max_features': 3, 'min_samples_leaf': 12, 'n_estimators': 3000}\n",
      "Best score is 0.8456464988687518\n",
      "AUC: 0.8514615119521288\n"
     ]
    },
    {
     "data": {
      "image/png": "[encoded data removed]",
      "text/plain": [
       "<matplotlib.figure.Figure at 0x7f96e8afc550>"
      ]
     },
     "metadata": {},
     "output_type": "display_data"
    }
   ],
   "source": [
    "# Fine tune the model\n",
    "from sklearn.model_selection import RandomizedSearchCV\n",
    "from scipy.stats import randint\n",
    "\n",
    "# Setup the parameters and distributions to sample from: param_dist\n",
    "param_dist = {\"max_depth\": [3, 8, 10, None],\n",
    "              \"max_features\": randint(1, X1.shape[1]),\n",
    "              \"min_samples_leaf\": randint(1, X1.shape[1]),\n",
    "              \"criterion\": [\"gini\", \"entropy\"],\n",
    "              \"class_weight\": [None, \"balanced\"],\n",
    "              \"n_estimators\": [1000, 2000, 3000]}\n",
    "\n",
    "# Instantiate a Decision Tree classifier: tree\n",
    "defaultforest = RandomForestClassifier()\n",
    "\n",
    "# Tune the hyperparameter with RandomizedSearchCV: tree_cv\n",
    "forest_cv = RandomizedSearchCV(defaultforest, param_dist, cv=5, scoring='roc_auc', random_state = 42, n_jobs=-1).fit(X_train, y_train)\n",
    "\n",
    "# Print the tuned parameters and score\n",
    "print(\"Tuned Decision Tree Parameters: {}\".format(forest_cv.best_params_))\n",
    "print(\"Best score is {}\".format(forest_cv.best_score_)) # 0.8454894547254883\n",
    "\n",
    "# Compute predicted probabilities: y_pred_prob\n",
    "y_pred_prob = forest_cv.predict_proba(X_test)[:,1]\n",
    "\n",
    "# Compute and print AUC score for fitted model\n",
    "print(\"AUC: {}\".format(roc_auc_score(y_test, y_pred_prob))) # 0.851363764528964\n",
    "\n",
    "# Generate ROC curve values: fpr, tpr, thresholds\n",
    "fpr2, tpr2, thresholds2 = roc_curve(y_test, y_pred_prob)\n",
    "\n",
    "# Plot ROC curve\n",
    "plt.plot([0, 1], [0, 1], 'k--')\n",
    "plt.plot(fpr2, tpr2)\n",
    "plt.xlabel('False Positive Rate')\n",
    "plt.ylabel('True Positive Rate')\n",
    "plt.title('ROC Curve')\n",
    "plt.show()"
   ]
  },
  {
   "cell_type": "code",
   "execution_count": 5,
   "metadata": {},
   "outputs": [
    {
     "name": "stdout",
     "output_type": "stream",
     "text": [
      "Tuned Decision Tree Parameters: {'n_estimators': 1000, 'max_depth': 3, 'learning_rate': 0.01}\n",
      "Best score is 0.8405380144287685\n",
      "AUC: 0.8483881073968482\n"
     ]
    }
   ],
   "source": [
    "### XGboost\n",
    "from xgboost import XGBClassifier\n",
    "xgb = XGBClassifier(max_depth=3, n_estimators=300, learning_rate=0.05, metric=['auc'], scoring='roc_auc', seed=42)\n",
    "xgb.fit(X_train, y_train)\n",
    "xgboost_cv = RandomizedSearchCV(XGBClassifier(), \n",
    "                                {\"max_depth\": [3, 8, 10],\n",
    "                                 \"learning_rate\": [0.01, 0.05, 0.10],\n",
    "                                 \"n_estimators\": [1000, 2000, 3000]}, \n",
    "                                 cv=5, scoring='roc_auc', random_state = 42, n_jobs=-1).fit(X_train, y_train)\n",
    "\n",
    "print(\"Tuned Decision Tree Parameters: {}\".format(xgboost_cv.best_params_))\n",
    "print(\"Best score is {}\".format(xgboost_cv.best_score_)) # 0.8405380144287685\n",
    "\n",
    "# Compute predicted probabilities: y_pred_prob\n",
    "y_pred_prob = xgboost_cv.predict_proba(X_test)[:,1]\n",
    "\n",
    "# Compute and print AUC score for fitted model\n",
    "print(\"AUC: {}\".format(roc_auc_score(y_test, y_pred_prob))) # 0.8483881073968482"
   ]
  },
  {
   "cell_type": "code",
   "execution_count": 6,
   "metadata": {},
   "outputs": [
    {
     "data": {
      "text/plain": [
       "array([ 0.13096203,  0.57217903,  0.22497381,  0.07966759,  0.06051087])"
      ]
     },
     "execution_count": 6,
     "metadata": {},
     "output_type": "execute_result"
    }
   ],
   "source": [
    "# Compute Predictions\n",
    "test = pd.read_csv('data/test.csv')\n",
    "test['gender'] = test['gender'].fillna('U')\n",
    "test = pd.get_dummies(test, drop_first=True)\n",
    "forest_cv.predict_proba(test)[:5, 1]"
   ]
  }
 ],
 "metadata": {
  "kernelspec": {
   "display_name": "Python 3",
   "language": "python",
   "name": "python3"
  },
  "language_info": {
   "codemirror_mode": {
    "name": "ipython",
    "version": 3
   },
   "file_extension": ".py",
   "mimetype": "text/x-python",
   "name": "python",
   "nbconvert_exporter": "python",
   "pygments_lexer": "ipython3",
   "version": "3.6.1"
  }
 },
 "nbformat": 4,
 "nbformat_minor": 2
}
